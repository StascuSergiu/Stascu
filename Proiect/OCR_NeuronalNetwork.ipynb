{
 "cells": [
  {
   "cell_type": "code",
   "execution_count": 51,
   "metadata": {
    "collapsed": false
   },
   "outputs": [
    {
     "name": "stdout",
     "output_type": "stream",
     "text": [
      "24\n"
     ]
    }
   ],
   "source": [
    "import numpy as np\n",
    "from PIL import Image\n",
    "from sklearn.metrics import accuracy_score\n",
    "\n",
    "# Sigma\n",
    "def nonlin(x,deriv=False):\n",
    "    if(deriv==True):\n",
    "        return x*(1-x)\n",
    "    return 1/(1+np.exp(-x))\n",
    "\n",
    "def rgb_to_bynar(r,g,b):\n",
    "    if ((r+g+b)/3)<100:\n",
    "        return 1\n",
    "    return 0\n",
    "\n",
    "def get_image_size(filename):\n",
    "    image = Image.open(filename)\n",
    "    row,col=image.size\n",
    "    return row,col\n",
    "\n",
    "def read_data(filename):  \n",
    "    y=[]\n",
    "    image = Image.open(filename)\n",
    "    row,col = get_image_size(filename)\n",
    "    pixels = image.load()\n",
    "\n",
    "    for i in range(row):\n",
    "        for j in range(col):\n",
    "            r,g,b = pixels[i,j]\n",
    "            color = rgb_to_bynar(r,g,b)           \n",
    "            y.append(color)\n",
    "    return y\n",
    "\n",
    "\n",
    "zero1=read_data('img/zero1.png')\n",
    "zero2=read_data('img/zero2.png')\n",
    "zero3=read_data('img/zero3.png')\n",
    "zero4=read_data('img/zero4.png')\n",
    "unu1=read_data('img/unu1.png')\n",
    "unu2=read_data('img/unu2.png')\n",
    "unu3=read_data('img/unu3.png')\n",
    "unu4=read_data('img/unu4.png')\n",
    "doi1=read_data('img/doi1.png')\n",
    "doi2=read_data('img/doi2.png')\n",
    "doi3=read_data('img/doi3.png')\n",
    "doi4=read_data('img/doi4.png')\n",
    "trei1=read_data('img/trei1.png')\n",
    "trei2=read_data('img/trei2.png')\n",
    "trei3=read_data('img/trei3.png')\n",
    "trei4=read_data('img/trei4.png')\n",
    "patru1=read_data('img/patru1.png')\n",
    "patru2=read_data('img/patru2.png')\n",
    "patru3=read_data('img/patru3.png')\n",
    "patru4=read_data('img/patru4.png')\n",
    "cinci1=read_data('img/cinci1.png')\n",
    "cinci2=read_data('img/cinci2.png')\n",
    "cinci3=read_data('img/cinci3.png')\n",
    "cinci4=read_data('img/cinci4.png')\n",
    "\n",
    "\n",
    "X1=np.vstack((cinci1,cinci2,cinci3,cinci4,patru1,patru2,patru3,patru4,trei1,trei2,trei3,trei4,doi1,doi2,doi3,doi4,unu1,unu2,unu3,unu4,zero1,zero2,zero3,zero4))\n",
    "print len(X1[:,1])"
   ]
  },
  {
   "cell_type": "code",
   "execution_count": 52,
   "metadata": {
    "collapsed": false
   },
   "outputs": [],
   "source": [
    "# Setul datelor de intrare \n",
    "X = np.array(X1)\n",
    "\n",
    "# Setul datelor de esire             \n",
    "y= np.array([  [1,0,1],\n",
    "               [1,0,1],\n",
    "               [1,0,1],\n",
    "               [1,0,1],\n",
    "                [1,0,0],\n",
    "                [1,0,0],\n",
    "                [1,0,0],\n",
    "                [1,0,0],\n",
    "             [0,1,1],\n",
    "             [0,1,1],\n",
    "             [0,1,1],\n",
    "             [0,1,1],\n",
    "                 [0,1,0],\n",
    "                 [0,1,0],\n",
    "                 [0,1,0],\n",
    "                 [0,1,0],\n",
    "             [0,0,1],\n",
    "             [0,0,1],\n",
    "             [0,0,1],\n",
    "             [0,0,1],\n",
    "                 [0,0,0],\n",
    "                 [0,0,0],\n",
    "                 [0,0,0],\n",
    "                 [0,0,0]\n",
    "            ])\n",
    "\n",
    "\n",
    "\n",
    "#Pentru ca numerele random sa fie mai detectabile\n",
    "np.random.seed(1)\n",
    "\n",
    "# Initialzam ponderile cu media 0\n",
    "syn0 = 2*np.random.random((100,3)) - 1\n",
    "i=0\n",
    "for iter in xrange(5000):\n",
    "    \n",
    "    # прямое распространение\n",
    "    l0 = X\n",
    "    l1 = nonlin(np.dot(l0,syn0))\n",
    "     \n",
    "    \n",
    "    # Calculam eroarea \n",
    "    l1_error = y - l1\n",
    "   \n",
    "    \n",
    "    #if iter%10==0:\n",
    "        #print'\\n'\n",
    "        #print 'Iteratia'\n",
    "        #print iter\n",
    "        #print l1_error \n",
    "       \n",
    "\n",
    "    # Imultim eroarea c\n",
    "    l1_delta = l1_error * nonlin(l1,True)\n",
    "    \n",
    "    # Ajustam ponderea\n",
    "    #print len(l1_delta[:,1])\n",
    "    #print len(l0.T[:,1])\n",
    "    syn0 += np.dot(l0.T,l1_delta)\n",
    "\n",
    "\n"
   ]
  },
  {
   "cell_type": "code",
   "execution_count": 46,
   "metadata": {
    "collapsed": false
   },
   "outputs": [
    {
     "name": "stdout",
     "output_type": "stream",
     "text": [
      "[[ 0.89415965  0.14981418  0.74138133]]\n",
      "[1, 0, 1]\n"
     ]
    }
   ],
   "source": [
    "test_cinci= np.vstack(read_data('img/cinci_test.png')).T\n",
    "print nonlin(np.dot(test_cinci,syn0))\n",
    "print [1,0,1]"
   ]
  },
  {
   "cell_type": "code",
   "execution_count": 47,
   "metadata": {
    "collapsed": false
   },
   "outputs": [
    {
     "name": "stdout",
     "output_type": "stream",
     "text": [
      "[[ 0.93755652  0.16264817  0.38502354]]\n",
      "[1, 0, 0]\n"
     ]
    }
   ],
   "source": [
    "test_patru= np.vstack(read_data('img/patru_test.png')).T\n",
    "print nonlin(np.dot(test_patru,syn0))\n",
    "print [1,0,0]"
   ]
  },
  {
   "cell_type": "code",
   "execution_count": 48,
   "metadata": {
    "collapsed": false
   },
   "outputs": [
    {
     "name": "stdout",
     "output_type": "stream",
     "text": [
      "[[ 0.85265786  0.19071205  0.11070637]]\n",
      "[0, 1, 1]\n"
     ]
    }
   ],
   "source": [
    "test_trei= np.vstack(read_data('img/trei_test.png')).T\n",
    "print nonlin(np.dot(test_trei,syn0))\n",
    "print [0,1,1]"
   ]
  },
  {
   "cell_type": "code",
   "execution_count": 15,
   "metadata": {
    "collapsed": false
   },
   "outputs": [
    {
     "name": "stdout",
     "output_type": "stream",
     "text": [
      "[[ 0.22995888  0.76874997  0.33328742]]\n",
      "[0, 1, 0]\n"
     ]
    }
   ],
   "source": [
    "test_doi= np.vstack(read_data('img/doi_test.png')).T\n",
    "print nonlin(np.dot(test_doi,syn0))\n",
    "print [0,1,0]"
   ]
  },
  {
   "cell_type": "code",
   "execution_count": 13,
   "metadata": {
    "collapsed": false
   },
   "outputs": [
    {
     "name": "stdout",
     "output_type": "stream",
     "text": [
      "[[ 0.36228238  0.43199584  0.61501129]]\n",
      "[0, 0, 1]\n"
     ]
    }
   ],
   "source": [
    "test_unu= np.vstack(read_data('img/unu_test.png')).T\n",
    "print nonlin(np.dot(test_unu,syn0))\n",
    "print [0,0,1]"
   ]
  },
  {
   "cell_type": "code",
   "execution_count": 14,
   "metadata": {
    "collapsed": false
   },
   "outputs": [
    {
     "name": "stdout",
     "output_type": "stream",
     "text": [
      "[[ 0.1469778   0.23986277  0.33762415]]\n",
      "[0, 0, 0]\n"
     ]
    }
   ],
   "source": [
    "test_zero= np.vstack(read_data('img/zero_test.png')).T\n",
    "print nonlin(np.dot(test_zero,syn0))\n",
    "print [0,0,0]"
   ]
  }
 ],
 "metadata": {
  "anaconda-cloud": {},
  "kernelspec": {
   "display_name": "Python [conda env:py27]",
   "language": "python",
   "name": "conda-env-py27-py"
  },
  "language_info": {
   "codemirror_mode": {
    "name": "ipython",
    "version": 2
   },
   "file_extension": ".py",
   "mimetype": "text/x-python",
   "name": "python",
   "nbconvert_exporter": "python",
   "pygments_lexer": "ipython2",
   "version": "2.7.12"
  }
 },
 "nbformat": 4,
 "nbformat_minor": 1
}
